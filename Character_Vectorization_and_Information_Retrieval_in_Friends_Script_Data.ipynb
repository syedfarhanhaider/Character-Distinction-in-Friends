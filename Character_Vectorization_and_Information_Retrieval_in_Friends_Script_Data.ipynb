{
  "cells": [
    {
      "cell_type": "markdown",
      "source": [
        "#Title: Character Vectorization and Information Retrieval in Friends Script Data"
      ],
      "metadata": {
        "id": "L39-ZRFdVwkb"
      }
    },
    {
      "cell_type": "markdown",
      "source": [
        "## Author: Syed Farhan Haider"
      ],
      "metadata": {
        "id": "4W_ulU7DS525"
      }
    },
    {
      "cell_type": "markdown",
      "source": [
        "##Objective\n",
        "\n",
        "The objective of this project is to create a vector representation of a document containing lines spoken by a character in the Friends script data. The goal is to optimize the vector representation such that each character vector is maximally distinguished from other character documents. This distinction is measured by how well a simple information retrieval classification method can select documents from validation and test data as belonging to the correct class of document."
      ],
      "metadata": {
        "id": "qn1ol6HlXBL4"
      }
    },
    {
      "cell_type": "markdown",
      "source": [
        "##Code"
      ],
      "metadata": {
        "id": "UJifrjQ4XP1I"
      }
    },
    {
      "cell_type": "code",
      "execution_count": 1,
      "metadata": {
        "colab": {
          "base_uri": "https://localhost:8080/"
        },
        "id": "8DoWPNRBFwPM",
        "outputId": "5c6c26ec-325d-4e32-e10e-44e0f88f7e6e"
      },
      "outputs": [
        {
          "output_type": "stream",
          "name": "stdout",
          "text": [
            "Requirement already satisfied: nltk in /usr/local/lib/python3.10/dist-packages (3.8.1)\n",
            "Requirement already satisfied: click in /usr/local/lib/python3.10/dist-packages (from nltk) (8.1.7)\n",
            "Requirement already satisfied: joblib in /usr/local/lib/python3.10/dist-packages (from nltk) (1.3.2)\n",
            "Requirement already satisfied: regex>=2021.8.3 in /usr/local/lib/python3.10/dist-packages (from nltk) (2023.6.3)\n",
            "Requirement already satisfied: tqdm in /usr/local/lib/python3.10/dist-packages (from nltk) (4.66.1)\n"
          ]
        }
      ],
      "source": [
        "!pip install nltk"
      ]
    },
    {
      "cell_type": "code",
      "execution_count": 2,
      "metadata": {
        "colab": {
          "base_uri": "https://localhost:8080/"
        },
        "id": "hTyuHS-uFwPO",
        "outputId": "49fe8660-de10-4342-ae68-0c1c2232d332"
      },
      "outputs": [
        {
          "output_type": "stream",
          "name": "stderr",
          "text": [
            "[nltk_data] Downloading package punkt to /root/nltk_data...\n",
            "[nltk_data]   Unzipping tokenizers/punkt.zip.\n",
            "[nltk_data] Downloading package stopwords to /root/nltk_data...\n",
            "[nltk_data]   Unzipping corpora/stopwords.zip.\n",
            "[nltk_data] Downloading package wordnet to /root/nltk_data...\n",
            "[nltk_data] Downloading package averaged_perceptron_tagger to\n",
            "[nltk_data]     /root/nltk_data...\n",
            "[nltk_data]   Unzipping taggers/averaged_perceptron_tagger.zip.\n",
            "[nltk_data] Downloading package vader_lexicon to /root/nltk_data...\n"
          ]
        }
      ],
      "source": [
        "import string\n",
        "import re\n",
        "import numpy as np\n",
        "from numpy.linalg import norm\n",
        "import pandas as pd\n",
        "from collections import Counter, OrderedDict\n",
        "\n",
        "import seaborn as sns\n",
        "import matplotlib.pyplot as plt\n",
        "\n",
        "import nltk\n",
        "nltk.download('punkt')\n",
        "nltk.download('stopwords')\n",
        "nltk.download('wordnet')\n",
        "nltk.download('averaged_perceptron_tagger')\n",
        "nltk.download('vader_lexicon')\n",
        "\n",
        "import math\n",
        "\n",
        "import nltk\n",
        "from nltk import word_tokenize, PorterStemmer\n",
        "from nltk.corpus import stopwords\n",
        "from sklearn.feature_extraction import DictVectorizer\n",
        "\n",
        "%matplotlib inline\n",
        "pd.options.display.max_colwidth=500"
      ]
    },
    {
      "cell_type": "markdown",
      "source": [
        "###Data Loading and Preprocessing:\n",
        "Loading training, validation, and test data from CSV files.\n"
      ],
      "metadata": {
        "id": "pqJQEgLDy2rW"
      }
    },
    {
      "cell_type": "code",
      "execution_count": 5,
      "metadata": {
        "colab": {
          "base_uri": "https://localhost:8080/",
          "height": 206
        },
        "id": "NosHBSqsFwPO",
        "outputId": "146c44b0-e7a2-44d8-ad42-d8b5fe1304d4"
      },
      "outputs": [
        {
          "output_type": "execute_result",
          "data": {
            "text/plain": [
              "  Episode Scene  Character_name  \\\n",
              "0  s01e01   c01   Monica Geller   \n",
              "1  s01e01   c01  Joey Tribbiani   \n",
              "2  s01e01   c01   Chandler Bing   \n",
              "3  s01e01   c01   Phoebe Buffay   \n",
              "4  s01e01   c01   Phoebe Buffay   \n",
              "\n",
              "                                                                               Line  \\\n",
              "0                          There's nothing to tell! He's just some guy I work with!   \n",
              "1  C'mon, you're going out with the guy! There's gotta be something wrong with him!   \n",
              "2          All right Joey, be nice. So does he have a hump? A hump and a hairpiece?   \n",
              "3                                                          Wait, does he eat chalk?   \n",
              "4   Just, 'cause, I don't want her to go through what I went through with Carl- oh!   \n",
              "\n",
              "   Gender  \n",
              "0  Female  \n",
              "1    Male  \n",
              "2    Male  \n",
              "3  Female  \n",
              "4  Female  "
            ],
            "text/html": [
              "\n",
              "  <div id=\"df-20477f11-9422-4ea7-98d8-becb571870f6\" class=\"colab-df-container\">\n",
              "    <div>\n",
              "<style scoped>\n",
              "    .dataframe tbody tr th:only-of-type {\n",
              "        vertical-align: middle;\n",
              "    }\n",
              "\n",
              "    .dataframe tbody tr th {\n",
              "        vertical-align: top;\n",
              "    }\n",
              "\n",
              "    .dataframe thead th {\n",
              "        text-align: right;\n",
              "    }\n",
              "</style>\n",
              "<table border=\"1\" class=\"dataframe\">\n",
              "  <thead>\n",
              "    <tr style=\"text-align: right;\">\n",
              "      <th></th>\n",
              "      <th>Episode</th>\n",
              "      <th>Scene</th>\n",
              "      <th>Character_name</th>\n",
              "      <th>Line</th>\n",
              "      <th>Gender</th>\n",
              "    </tr>\n",
              "  </thead>\n",
              "  <tbody>\n",
              "    <tr>\n",
              "      <th>0</th>\n",
              "      <td>s01e01</td>\n",
              "      <td>c01</td>\n",
              "      <td>Monica Geller</td>\n",
              "      <td>There's nothing to tell! He's just some guy I work with!</td>\n",
              "      <td>Female</td>\n",
              "    </tr>\n",
              "    <tr>\n",
              "      <th>1</th>\n",
              "      <td>s01e01</td>\n",
              "      <td>c01</td>\n",
              "      <td>Joey Tribbiani</td>\n",
              "      <td>C'mon, you're going out with the guy! There's gotta be something wrong with him!</td>\n",
              "      <td>Male</td>\n",
              "    </tr>\n",
              "    <tr>\n",
              "      <th>2</th>\n",
              "      <td>s01e01</td>\n",
              "      <td>c01</td>\n",
              "      <td>Chandler Bing</td>\n",
              "      <td>All right Joey, be nice. So does he have a hump? A hump and a hairpiece?</td>\n",
              "      <td>Male</td>\n",
              "    </tr>\n",
              "    <tr>\n",
              "      <th>3</th>\n",
              "      <td>s01e01</td>\n",
              "      <td>c01</td>\n",
              "      <td>Phoebe Buffay</td>\n",
              "      <td>Wait, does he eat chalk?</td>\n",
              "      <td>Female</td>\n",
              "    </tr>\n",
              "    <tr>\n",
              "      <th>4</th>\n",
              "      <td>s01e01</td>\n",
              "      <td>c01</td>\n",
              "      <td>Phoebe Buffay</td>\n",
              "      <td>Just, 'cause, I don't want her to go through what I went through with Carl- oh!</td>\n",
              "      <td>Female</td>\n",
              "    </tr>\n",
              "  </tbody>\n",
              "</table>\n",
              "</div>\n",
              "    <div class=\"colab-df-buttons\">\n",
              "\n",
              "  <div class=\"colab-df-container\">\n",
              "    <button class=\"colab-df-convert\" onclick=\"convertToInteractive('df-20477f11-9422-4ea7-98d8-becb571870f6')\"\n",
              "            title=\"Convert this dataframe to an interactive table.\"\n",
              "            style=\"display:none;\">\n",
              "\n",
              "  <svg xmlns=\"http://www.w3.org/2000/svg\" height=\"24px\" viewBox=\"0 -960 960 960\">\n",
              "    <path d=\"M120-120v-720h720v720H120Zm60-500h600v-160H180v160Zm220 220h160v-160H400v160Zm0 220h160v-160H400v160ZM180-400h160v-160H180v160Zm440 0h160v-160H620v160ZM180-180h160v-160H180v160Zm440 0h160v-160H620v160Z\"/>\n",
              "  </svg>\n",
              "    </button>\n",
              "\n",
              "  <style>\n",
              "    .colab-df-container {\n",
              "      display:flex;\n",
              "      gap: 12px;\n",
              "    }\n",
              "\n",
              "    .colab-df-convert {\n",
              "      background-color: #E8F0FE;\n",
              "      border: none;\n",
              "      border-radius: 50%;\n",
              "      cursor: pointer;\n",
              "      display: none;\n",
              "      fill: #1967D2;\n",
              "      height: 32px;\n",
              "      padding: 0 0 0 0;\n",
              "      width: 32px;\n",
              "    }\n",
              "\n",
              "    .colab-df-convert:hover {\n",
              "      background-color: #E2EBFA;\n",
              "      box-shadow: 0px 1px 2px rgba(60, 64, 67, 0.3), 0px 1px 3px 1px rgba(60, 64, 67, 0.15);\n",
              "      fill: #174EA6;\n",
              "    }\n",
              "\n",
              "    .colab-df-buttons div {\n",
              "      margin-bottom: 4px;\n",
              "    }\n",
              "\n",
              "    [theme=dark] .colab-df-convert {\n",
              "      background-color: #3B4455;\n",
              "      fill: #D2E3FC;\n",
              "    }\n",
              "\n",
              "    [theme=dark] .colab-df-convert:hover {\n",
              "      background-color: #434B5C;\n",
              "      box-shadow: 0px 1px 3px 1px rgba(0, 0, 0, 0.15);\n",
              "      filter: drop-shadow(0px 1px 2px rgba(0, 0, 0, 0.3));\n",
              "      fill: #FFFFFF;\n",
              "    }\n",
              "  </style>\n",
              "\n",
              "    <script>\n",
              "      const buttonEl =\n",
              "        document.querySelector('#df-20477f11-9422-4ea7-98d8-becb571870f6 button.colab-df-convert');\n",
              "      buttonEl.style.display =\n",
              "        google.colab.kernel.accessAllowed ? 'block' : 'none';\n",
              "\n",
              "      async function convertToInteractive(key) {\n",
              "        const element = document.querySelector('#df-20477f11-9422-4ea7-98d8-becb571870f6');\n",
              "        const dataTable =\n",
              "          await google.colab.kernel.invokeFunction('convertToInteractive',\n",
              "                                                    [key], {});\n",
              "        if (!dataTable) return;\n",
              "\n",
              "        const docLinkHtml = 'Like what you see? Visit the ' +\n",
              "          '<a target=\"_blank\" href=https://colab.research.google.com/notebooks/data_table.ipynb>data table notebook</a>'\n",
              "          + ' to learn more about interactive tables.';\n",
              "        element.innerHTML = '';\n",
              "        dataTable['output_type'] = 'display_data';\n",
              "        await google.colab.output.renderOutput(dataTable, element);\n",
              "        const docLink = document.createElement('div');\n",
              "        docLink.innerHTML = docLinkHtml;\n",
              "        element.appendChild(docLink);\n",
              "      }\n",
              "    </script>\n",
              "  </div>\n",
              "\n",
              "\n",
              "<div id=\"df-d02fe314-47d0-4652-8dfd-66fb0d8df590\">\n",
              "  <button class=\"colab-df-quickchart\" onclick=\"quickchart('df-d02fe314-47d0-4652-8dfd-66fb0d8df590')\"\n",
              "            title=\"Suggest charts\"\n",
              "            style=\"display:none;\">\n",
              "\n",
              "<svg xmlns=\"http://www.w3.org/2000/svg\" height=\"24px\"viewBox=\"0 0 24 24\"\n",
              "     width=\"24px\">\n",
              "    <g>\n",
              "        <path d=\"M19 3H5c-1.1 0-2 .9-2 2v14c0 1.1.9 2 2 2h14c1.1 0 2-.9 2-2V5c0-1.1-.9-2-2-2zM9 17H7v-7h2v7zm4 0h-2V7h2v10zm4 0h-2v-4h2v4z\"/>\n",
              "    </g>\n",
              "</svg>\n",
              "  </button>\n",
              "\n",
              "<style>\n",
              "  .colab-df-quickchart {\n",
              "      --bg-color: #E8F0FE;\n",
              "      --fill-color: #1967D2;\n",
              "      --hover-bg-color: #E2EBFA;\n",
              "      --hover-fill-color: #174EA6;\n",
              "      --disabled-fill-color: #AAA;\n",
              "      --disabled-bg-color: #DDD;\n",
              "  }\n",
              "\n",
              "  [theme=dark] .colab-df-quickchart {\n",
              "      --bg-color: #3B4455;\n",
              "      --fill-color: #D2E3FC;\n",
              "      --hover-bg-color: #434B5C;\n",
              "      --hover-fill-color: #FFFFFF;\n",
              "      --disabled-bg-color: #3B4455;\n",
              "      --disabled-fill-color: #666;\n",
              "  }\n",
              "\n",
              "  .colab-df-quickchart {\n",
              "    background-color: var(--bg-color);\n",
              "    border: none;\n",
              "    border-radius: 50%;\n",
              "    cursor: pointer;\n",
              "    display: none;\n",
              "    fill: var(--fill-color);\n",
              "    height: 32px;\n",
              "    padding: 0;\n",
              "    width: 32px;\n",
              "  }\n",
              "\n",
              "  .colab-df-quickchart:hover {\n",
              "    background-color: var(--hover-bg-color);\n",
              "    box-shadow: 0 1px 2px rgba(60, 64, 67, 0.3), 0 1px 3px 1px rgba(60, 64, 67, 0.15);\n",
              "    fill: var(--button-hover-fill-color);\n",
              "  }\n",
              "\n",
              "  .colab-df-quickchart-complete:disabled,\n",
              "  .colab-df-quickchart-complete:disabled:hover {\n",
              "    background-color: var(--disabled-bg-color);\n",
              "    fill: var(--disabled-fill-color);\n",
              "    box-shadow: none;\n",
              "  }\n",
              "\n",
              "  .colab-df-spinner {\n",
              "    border: 2px solid var(--fill-color);\n",
              "    border-color: transparent;\n",
              "    border-bottom-color: var(--fill-color);\n",
              "    animation:\n",
              "      spin 1s steps(1) infinite;\n",
              "  }\n",
              "\n",
              "  @keyframes spin {\n",
              "    0% {\n",
              "      border-color: transparent;\n",
              "      border-bottom-color: var(--fill-color);\n",
              "      border-left-color: var(--fill-color);\n",
              "    }\n",
              "    20% {\n",
              "      border-color: transparent;\n",
              "      border-left-color: var(--fill-color);\n",
              "      border-top-color: var(--fill-color);\n",
              "    }\n",
              "    30% {\n",
              "      border-color: transparent;\n",
              "      border-left-color: var(--fill-color);\n",
              "      border-top-color: var(--fill-color);\n",
              "      border-right-color: var(--fill-color);\n",
              "    }\n",
              "    40% {\n",
              "      border-color: transparent;\n",
              "      border-right-color: var(--fill-color);\n",
              "      border-top-color: var(--fill-color);\n",
              "    }\n",
              "    60% {\n",
              "      border-color: transparent;\n",
              "      border-right-color: var(--fill-color);\n",
              "    }\n",
              "    80% {\n",
              "      border-color: transparent;\n",
              "      border-right-color: var(--fill-color);\n",
              "      border-bottom-color: var(--fill-color);\n",
              "    }\n",
              "    90% {\n",
              "      border-color: transparent;\n",
              "      border-bottom-color: var(--fill-color);\n",
              "    }\n",
              "  }\n",
              "</style>\n",
              "\n",
              "  <script>\n",
              "    async function quickchart(key) {\n",
              "      const quickchartButtonEl =\n",
              "        document.querySelector('#' + key + ' button');\n",
              "      quickchartButtonEl.disabled = true;  // To prevent multiple clicks.\n",
              "      quickchartButtonEl.classList.add('colab-df-spinner');\n",
              "      try {\n",
              "        const charts = await google.colab.kernel.invokeFunction(\n",
              "            'suggestCharts', [key], {});\n",
              "      } catch (error) {\n",
              "        console.error('Error during call to suggestCharts:', error);\n",
              "      }\n",
              "      quickchartButtonEl.classList.remove('colab-df-spinner');\n",
              "      quickchartButtonEl.classList.add('colab-df-quickchart-complete');\n",
              "    }\n",
              "    (() => {\n",
              "      let quickchartButtonEl =\n",
              "        document.querySelector('#df-d02fe314-47d0-4652-8dfd-66fb0d8df590 button');\n",
              "      quickchartButtonEl.style.display =\n",
              "        google.colab.kernel.accessAllowed ? 'block' : 'none';\n",
              "    })();\n",
              "  </script>\n",
              "</div>\n",
              "    </div>\n",
              "  </div>\n"
            ]
          },
          "metadata": {},
          "execution_count": 5
        }
      ],
      "source": [
        "# Load in training data and display in pandas dataframe\n",
        "train_path='training.csv'\n",
        "train_data = pd.read_csv(train_path,  delimiter=\"\\t\", skip_blank_lines = True)\n",
        "val_path ='val.csv'\n",
        "val_data = pd.read_csv(val_path,  delimiter=\"\\t\", skip_blank_lines = True)\n",
        "test_path ='test.csv'\n",
        "test_data = pd.read_csv(test_path,  delimiter=\"\\t\", skip_blank_lines = True)\n",
        "\n",
        "# Inspect\n",
        "train_data[:5]"
      ]
    },
    {
      "cell_type": "markdown",
      "source": [
        "Creating a function (create_character_document_from_dataframe) to generate character documents from the dataframe."
      ],
      "metadata": {
        "id": "582Lf6ybzcCT"
      }
    },
    {
      "cell_type": "code",
      "execution_count": 4,
      "metadata": {
        "id": "2n3AAcOychzs"
      },
      "outputs": [],
      "source": [
        "from collections import defaultdict\n",
        "\n",
        "def create_character_document_from_dataframe(df, max_line_count):\n",
        "    \"\"\"Returns a dict with the name of the character as key,\n",
        "    their lines joined together as a single string, with end of line _EOL_\n",
        "    markers between them. Dialogue context includes lines spoken\n",
        "    by other characters in the same scene (before and after).\n",
        "\n",
        "    ::max_line_count:: the maximum number of lines to be added per character\n",
        "    \"\"\"\n",
        "    character_docs = defaultdict(list)\n",
        "\n",
        "    # Grouping the dataframe by Episode and Scene\n",
        "    grouped_df = df.groupby(['Episode', 'Scene'])\n",
        "\n",
        "    for (_, _), group in grouped_df:\n",
        "        for row in group.itertuples():\n",
        "            name, line = row.Character_name, row.Line\n",
        "\n",
        "            # Skipping empty lines\n",
        "            if not line:\n",
        "                continue\n",
        "\n",
        "            # Appending the current line to the character's document list\n",
        "            character_docs[name].append(f\"{line} _EOL_\")\n",
        "\n",
        "    # Concatenating lines for each character and limit to max_line_count\n",
        "    character_docs = {name: ' '.join(lines[:max_line_count]) for name, lines in character_docs.items()}\n",
        "\n",
        "    return character_docs\n"
      ]
    },
    {
      "cell_type": "markdown",
      "source": [
        "\n",
        "Calculating and displaying the number of words for each character in the training set."
      ],
      "metadata": {
        "id": "zLgJnvqRze8G"
      }
    },
    {
      "cell_type": "code",
      "execution_count": 6,
      "metadata": {
        "colab": {
          "base_uri": "https://localhost:8080/"
        },
        "id": "WBcuQ_N0FwPP",
        "outputId": "6922462e-d3a0-413b-94bd-2e9508dd46f5"
      },
      "outputs": [
        {
          "output_type": "stream",
          "name": "stdout",
          "text": [
            "Num. Characters:  10 \n",
            "\n",
            "Monica Geller Number of Words:  2937\n",
            "Joey Tribbiani Number of Words:  3119\n",
            "Chandler Bing Number of Words:  3963\n",
            "Phoebe Buffay Number of Words:  3437\n",
            "#ALL# Number of Words:  990\n",
            "Ross Geller Number of Words:  3477\n",
            "Rachel Green Number of Words:  3725\n",
            "Other_None Number of Words:  2904\n",
            "Other_Female Number of Words:  2733\n",
            "Other_Male Number of Words:  3232\n",
            "total words 30517\n"
          ]
        }
      ],
      "source": [
        "# print out the number of words each character has in the training set\n",
        "# only use the first 300 lines of each character\n",
        "train_character_docs = create_character_document_from_dataframe(train_data, max_line_count=300)\n",
        "print('Num. Characters: ',len(train_character_docs.keys()),\"\\n\")\n",
        "total_words = 0\n",
        "for name in train_character_docs.keys():\n",
        "    print(name, 'Number of Words: ',len(train_character_docs[name].split()))\n",
        "    total_words += len(train_character_docs[name].split())\n",
        "print(\"total words\", total_words)"
      ]
    },
    {
      "cell_type": "markdown",
      "source": [
        "### Preprocessing:\n",
        "Implementing a preprocessing function (pre_process) that handles lowercasing, tokenization, stop word removal, punctuation removal, stemming, number removal, and special character removal.\n",
        "Testing the pre_process function on a sample text."
      ],
      "metadata": {
        "id": "lVUbTn_50EcS"
      }
    },
    {
      "cell_type": "code",
      "execution_count": 7,
      "metadata": {
        "id": "Zl40ntZrFwPP"
      },
      "outputs": [],
      "source": [
        "def pre_process(text):\n",
        "\n",
        "    # Lowercasing\n",
        "    text = text.lower()\n",
        "\n",
        "    # Tokenization using NLTK's word_tokenize\n",
        "    tokens = word_tokenize(text)\n",
        "\n",
        "    # Removing Stop Words\n",
        "    stop_words = set(stopwords.words('english'))\n",
        "    tokens = [token for token in tokens if token not in stop_words]\n",
        "\n",
        "    # Removing Punctuation\n",
        "    tokens = [token for token in tokens if token not in string.punctuation]\n",
        "\n",
        "    # Stemming using Porter Stemmer\n",
        "    stemmer = PorterStemmer()\n",
        "    tokens = [stemmer.stem(token) for token in tokens]\n",
        "\n",
        "    # Removing Numbers\n",
        "    tokens = [token for token in tokens if not token.isdigit()]\n",
        "\n",
        "    # Removing Special Characters\n",
        "    tokens = [re.sub(r'[^a-zA-Z0-9]', '', token) for token in tokens]\n",
        "\n",
        "    return tokens"
      ]
    },
    {
      "cell_type": "code",
      "execution_count": 8,
      "metadata": {
        "colab": {
          "base_uri": "https://localhost:8080/"
        },
        "id": "pOuDWrBwdsjo",
        "outputId": "78ca9df2-6c00-4666-ceb7-c1df5b606311"
      },
      "outputs": [
        {
          "output_type": "stream",
          "name": "stdout",
          "text": [
            "Original Text: C'mon, I mean, I always knew looked familiar, but... Anyway, I just had to get o...\n",
            "Processed Text: ['cmon', 'mean', 'alway', 'knew', 'look', 'familiar', '', 'anyway', 'get', '']\n"
          ]
        }
      ],
      "source": [
        "# Test the pre_process function\n",
        "sample_text = \"C'mon, I mean, I always knew looked familiar, but... Anyway, I just had to get o...\"\n",
        "processed_sample = pre_process(sample_text)\n",
        "print(\"Original Text:\", sample_text)\n",
        "print(\"Processed Text:\", processed_sample)"
      ]
    },
    {
      "cell_type": "code",
      "execution_count": 9,
      "metadata": {
        "id": "djZSDO-lFwPQ"
      },
      "outputs": [],
      "source": [
        "# Create list of pairs of (character name, pre-processed character)\n",
        "training_corpus = [(name, pre_process(doc)) for name, doc in sorted(train_character_docs.items())]\n",
        "train_labels = [name for name, doc in training_corpus]"
      ]
    },
    {
      "cell_type": "markdown",
      "metadata": {
        "id": "3dRZzuTlRcPM"
      },
      "source": [
        "###Feature Extraction:\n",
        "Implementing a function (to_feature_vector_dictionary) to convert pre-processed tokens and extra features to a feature vector dictionary.\n",
        "Utilizing TF-IDF transformation for feature extraction."
      ]
    },
    {
      "cell_type": "code",
      "execution_count": 10,
      "metadata": {
        "id": "q_4tpz38BPnw"
      },
      "outputs": [],
      "source": [
        "import nltk\n",
        "from nltk.sentiment.vader import SentimentIntensityAnalyzer\n",
        "from nltk import ngrams, pos_tag\n",
        "from sklearn.feature_extraction import DictVectorizer\n",
        "from sklearn.feature_extraction.text import TfidfTransformer\n",
        "from sklearn.feature_extraction.text import CountVectorizer\n",
        "from collections import Counter\n",
        "\n",
        "# Initialize the sentiment analyzer\n",
        "sentiment_analyzer = SentimentIntensityAnalyzer()\n",
        "\n",
        "corpusVectorizer = DictVectorizer()\n",
        "tfidf_transformer = TfidfTransformer()\n",
        "\n",
        "def to_feature_vector_dictionary(character_doc, extra_features):\n",
        "    \"\"\"Converts a list of pre-processed tokens and extra features\n",
        "    to a Dictionary as a function of the tokens.\n",
        "\n",
        "    Modifications done ::\n",
        "    > Counts of pre-processed tokens\n",
        "    > Sentiment score\n",
        "    > Ngram counts\n",
        "\n",
        "    ::character_doc:: a list of pre-processed tokens\n",
        "    ::extra_features:: any extra features for the character to be added to the feature vector dict\n",
        "    \"\"\"\n",
        "    counts = Counter(character_doc)  # for now, a simple count\n",
        "    counts = dict(counts)\n",
        "\n",
        "    # Sentiment score using VADER\n",
        "    sentiment_scores = sentiment_analyzer.polarity_scores(' '.join(character_doc))\n",
        "\n",
        "    # Add the sentiment score to the feature vector dict\n",
        "    counts['sentiment_score'] = sentiment_scores['compound']\n",
        "\n",
        "    # N-gram counts\n",
        "    n_grams = list(ngrams(character_doc, 4)) #4\n",
        "    n_gram_counts = Counter(n_grams)\n",
        "    n_gram_counts = {f'ngram_{n_gram}': count for n_gram, count in n_gram_counts.items()}\n",
        "    counts.update(n_gram_counts)\n",
        "\n",
        "    # Add the extra features, for now just adding one count for each extra feature\n",
        "    for feature in extra_features:\n",
        "        counts[feature] += 1\n",
        "\n",
        "    return counts"
      ]
    },
    {
      "cell_type": "code",
      "execution_count": 11,
      "metadata": {
        "id": "MGiwAVgFE8RX"
      },
      "outputs": [],
      "source": [
        "def create_document_matrix_from_corpus(corpus, fitting=False):\n",
        "    \"\"\"Method which fits different vectorizers\n",
        "    on data and returns a matrix.\n",
        "\n",
        "    Modifications done ::\n",
        "    > Using TF-IDF transformation\n",
        "\n",
        "    ::corpus:: a list of (class_label, document) pairs.\n",
        "    ::fitting:: a boolean indicating whether to fit/train the vectorizers (should be true on training data)\n",
        "    \"\"\"\n",
        "    if fitting:\n",
        "        corpusVectorizer.fit([to_feature_vector_dictionary(doc, []) for _, doc in corpus])\n",
        "    doc_feature_matrix = corpusVectorizer.transform([to_feature_vector_dictionary(doc, []) for _, doc in corpus])\n",
        "\n",
        "    # Use TF-IDF transformation\n",
        "    tfidf_transformer.fit(doc_feature_matrix)\n",
        "    doc_feature_matrix_tfidf = tfidf_transformer.transform(doc_feature_matrix)\n",
        "\n",
        "    return doc_feature_matrix_tfidf"
      ]
    },
    {
      "cell_type": "markdown",
      "source": [
        "Transforming the training matrix"
      ],
      "metadata": {
        "id": "nBl4VcRx3q50"
      }
    },
    {
      "cell_type": "code",
      "execution_count": 12,
      "metadata": {
        "colab": {
          "base_uri": "https://localhost:8080/"
        },
        "id": "Hgq_DQPjFwPR",
        "outputId": "afad298b-57cb-4fe4-bf14-b06333eda89a"
      },
      "outputs": [
        {
          "output_type": "execute_result",
          "data": {
            "text/plain": [
              "<10x21327 sparse matrix of type '<class 'numpy.float64'>'\n",
              "\twith 24913 stored elements in Compressed Sparse Row format>"
            ]
          },
          "metadata": {},
          "execution_count": 12
        }
      ],
      "source": [
        "training_feature_matrix = create_document_matrix_from_corpus(training_corpus, fitting=True)\n",
        "training_feature_matrix"
      ]
    },
    {
      "cell_type": "markdown",
      "source": [
        "Calculating and displaying the number of words for each character in the validation set."
      ],
      "metadata": {
        "id": "d_HUvyVR3TM8"
      }
    },
    {
      "cell_type": "code",
      "execution_count": 13,
      "metadata": {
        "colab": {
          "base_uri": "https://localhost:8080/"
        },
        "id": "_L0cgZKrFwPR",
        "outputId": "1d05e3a7-fad1-400c-c6b2-65fd53d1198f"
      },
      "outputs": [
        {
          "output_type": "stream",
          "name": "stdout",
          "text": [
            "Num. Characters:  10 \n",
            "\n",
            "Other_None Num of Words:  397\n",
            "Rachel Green Num of Words:  276\n",
            "Other_Male Num of Words:  410\n",
            "Ross Geller Num of Words:  242\n",
            "#ALL# Num of Words:  77\n",
            "Phoebe Buffay Num of Words:  359\n",
            "Chandler Bing Num of Words:  299\n",
            "Monica Geller Num of Words:  275\n",
            "Joey Tribbiani Num of Words:  251\n",
            "Other_Female Num of Words:  425\n",
            "total words 3011\n"
          ]
        }
      ],
      "source": [
        "# get the validation data- only 30 lines used for each character\n",
        "val_character_docs = create_character_document_from_dataframe(val_data, max_line_count=30)\n",
        "print('Num. Characters: ',len(val_character_docs.keys()),\"\\n\")\n",
        "total_words = 0\n",
        "for name in val_character_docs.keys():\n",
        "    print(name, 'Num of Words: ',len(val_character_docs[name].split()))\n",
        "    total_words += len(val_character_docs[name].split())\n",
        "print(\"total words\", total_words)"
      ]
    },
    {
      "cell_type": "markdown",
      "source": [
        "Creating list of pairs of (character name, pre-processed character) for validation set"
      ],
      "metadata": {
        "id": "Co4bUJK836l_"
      }
    },
    {
      "cell_type": "code",
      "source": [
        "# Creating list of pairs of (character name, pre-processed character)\n",
        "val_corpus = [(name, pre_process(doc)) for name, doc in sorted(val_character_docs.items())]\n",
        "val_labels = [name for name, doc in val_corpus]"
      ],
      "metadata": {
        "id": "wAhtEsz73_iF"
      },
      "execution_count": 14,
      "outputs": []
    },
    {
      "cell_type": "code",
      "execution_count": 15,
      "metadata": {
        "id": "BuHQ5hsPFwPR",
        "colab": {
          "base_uri": "https://localhost:8080/"
        },
        "outputId": "4711d05c-2ba9-4f4e-f0e2-83d415ab98ad"
      },
      "outputs": [
        {
          "output_type": "execute_result",
          "data": {
            "text/plain": [
              "<10x21327 sparse matrix of type '<class 'numpy.float64'>'\n",
              "\twith 930 stored elements in Compressed Sparse Row format>"
            ]
          },
          "metadata": {},
          "execution_count": 15
        }
      ],
      "source": [
        "# Just transforming the val_feature_matrix, don't fit\n",
        "val_feature_matrix = create_document_matrix_from_corpus(val_corpus, fitting=False)\n",
        "val_feature_matrix"
      ]
    },
    {
      "cell_type": "markdown",
      "source": [
        "### Information Retrieval Evaluation:\n",
        "Creating a function (compute_IR_evaluation_scores) to compute an IR-based evaluation on training and test data.\n",
        "Evaluating mean rank, mean cosine similarity, accuracy, and generating a dataframe with similarity measures."
      ],
      "metadata": {
        "id": "ddASrjjcGImG"
      }
    },
    {
      "cell_type": "code",
      "execution_count": 16,
      "metadata": {
        "id": "bnnp1KuDFwPS"
      },
      "outputs": [],
      "source": [
        "def compute_cosine_similarity(v1, v2):\n",
        "    \"\"\"Takes a pair of vectors v1 and v2 (1-d arrays e.g. [0, 0.5, 0.5])\n",
        "    returns the cosine similarity between the vectors\n",
        "    \"\"\"\n",
        "\n",
        "    # compute cosine similarity manually\n",
        "    manual_cosine_similarity = np.dot(v1, v2)  /(norm(v1) * norm(v2))\n",
        "\n",
        "    return manual_cosine_similarity"
      ]
    },
    {
      "cell_type": "code",
      "execution_count": 17,
      "metadata": {
        "id": "uVEUipT7FwPS"
      },
      "outputs": [],
      "source": [
        "def compute_IR_evaluation_scores(train_feature_matrix, test_feature_matrix, train_labels, test_labels):\n",
        "    \"\"\"\n",
        "    Computes an information retrieval based on training data feature matrix and test data feature matrix\n",
        "    returns 4-tuple:\n",
        "    ::mean_rank:: mean of the ranking of the target document in terms of similarity to the query/test document\n",
        "    1 is the best possible score.\n",
        "    ::mean_cosine_similarity:: mean cosine similarity score for the target document vs. the test document of the same class\n",
        "    ::accuracy:: proportion of test documents correctly classified\n",
        "    ::df:: a data frame with all the similarity measures of the test documents vs. train documents\n",
        "\n",
        "    params:\n",
        "    ::train_feature_matrix:: a numpy matrix N x M shape where N = number of characters M = number of features\n",
        "    ::test_feature_matrix::  a numpy matrix N x M shape where N = number of characters M = number of features\n",
        "    ::train_labels:: a list of character names for the training data in order consistent with train_feature_matrix\n",
        "    ::test_labels:: a list of character names for the test data in order consistent with test_feature_matrix\n",
        "    \"\"\"\n",
        "    rankings = []\n",
        "    all_cosine_similarities = []\n",
        "    pairwise_cosine_similarity = []\n",
        "    pairs = []\n",
        "    correct = 0\n",
        "    for i, target in enumerate(test_labels):\n",
        "        # compare the left out character against the mean\n",
        "        idx = i\n",
        "        fm_1 = test_feature_matrix.toarray()[idx]\n",
        "        all_sims = {}\n",
        "        # print(\"target:\", target)\n",
        "        for j, other in enumerate(train_labels):\n",
        "            fm_2 = train_feature_matrix.toarray()[j]\n",
        "            manual_cosine_similarity = compute_cosine_similarity(fm_1, fm_2)\n",
        "            pairs.append((target, other))\n",
        "            pairwise_cosine_similarity.append(manual_cosine_similarity)\n",
        "            if other == target:\n",
        "                all_cosine_similarities.append(manual_cosine_similarity)\n",
        "            all_sims[other] = manual_cosine_similarity\n",
        "\n",
        "            # print(target, other, manual_cosine_similarity)\n",
        "        sorted_similarities = sorted(all_sims.items(),key=lambda x:x[1],reverse=True)\n",
        "        # print(sorted_similarities)\n",
        "        ranking = {key[0]: rank for rank, key in enumerate(sorted_similarities, 1)}\n",
        "        # print(\"Ranking for target\", ranking[target])\n",
        "        if ranking[target] == 1:\n",
        "            correct += 1\n",
        "        rankings.append(ranking[target])\n",
        "        # print(\"*****\")\n",
        "    mean_rank = np.mean(rankings)\n",
        "    mean_cosine_similarity = np.mean(all_cosine_similarities)\n",
        "    accuracy = correct/len(test_labels)\n",
        "    print(\"mean rank\", np.mean(rankings))\n",
        "    print(\"mean cosine similarity\", mean_cosine_similarity)\n",
        "    print(correct, \"correct out of\", len(test_labels), \"/ accuracy:\", accuracy )\n",
        "\n",
        "    # get a dafaframe showing all the similarity scores of training vs test docs\n",
        "    df = pd.DataFrame({'doc1': [x[0] for x in pairs], 'doc2': [x[1] for x in pairs],\n",
        "                       'similarity': pairwise_cosine_similarity})\n",
        "\n",
        "    # display characters which are most similar and least similar\n",
        "    df.loc[[df.similarity.values.argmax(), df.similarity.values.argmin()]]\n",
        "    return (mean_rank, mean_cosine_similarity, accuracy, df)"
      ]
    },
    {
      "cell_type": "code",
      "execution_count": 18,
      "metadata": {
        "id": "xr-WPAG1FwPS"
      },
      "outputs": [],
      "source": [
        "def plot_heat_map_similarity(df):\n",
        "    \"\"\"Takes a dataframe with header 'doc1, doc2, similarity'\n",
        "    Plots a heatmap based on the similarity scores.\n",
        "    \"\"\"\n",
        "    test_labels =  sorted(list(set(df.sort_values(['doc1'])['doc1'])))\n",
        "    # add padding 1.0 values to either side\n",
        "    cm = [[1.0,] * (len(test_labels)+2)]\n",
        "    for target in test_labels:\n",
        "        new_row = [1.0]\n",
        "        for x in df.sort_values(['doc1', 'doc2'])[df['doc1']==target]['similarity']:\n",
        "            new_row.append(x)\n",
        "        new_row.append(1.0)\n",
        "        cm.append(new_row)\n",
        "    cm.append([1.0,] * (len(test_labels)+2))\n",
        "    #print(cm)\n",
        "    labels = [\"\"] + test_labels + [\"\"]\n",
        "    fig = plt.figure(figsize=(20,20))\n",
        "    ax = fig.add_subplot(111)\n",
        "    cax = ax.matshow(cm)\n",
        "    plt.title('Similarity matrix between documents as vectors')\n",
        "    fig.colorbar(cax)\n",
        "    ax.set_xticks(np.arange(len(labels)))\n",
        "    ax.set_yticks(np.arange(len(labels)))\n",
        "    ax.set_xticklabels( labels, rotation=45)\n",
        "    ax.set_yticklabels( labels)\n",
        "\n",
        "    for i in range(len(cm)):\n",
        "        for j in range(len(cm)):\n",
        "\n",
        "            text = ax.text(j, i, round(cm[i][j],3),\n",
        "                           ha=\"center\", va=\"center\", color=\"w\")\n",
        "\n",
        "    plt.xlabel('Training Vector Doc')\n",
        "    plt.ylabel('Test Vector Doc')\n",
        "    fig.tight_layout()\n",
        "    plt.show()"
      ]
    },
    {
      "cell_type": "code",
      "execution_count": 19,
      "metadata": {
        "colab": {
          "base_uri": "https://localhost:8080/"
        },
        "id": "L5RWFPk4FwPS",
        "outputId": "945f7c4f-40d4-49a3-e34c-a9d4586e6ecf"
      },
      "outputs": [
        {
          "output_type": "stream",
          "name": "stdout",
          "text": [
            "mean rank 2.2\n",
            "mean cosine similarity 0.7407459164746795\n",
            "7 correct out of 10 / accuracy: 0.7\n"
          ]
        }
      ],
      "source": [
        "mean_rank, mean_cosine_simliarity, acc, df = compute_IR_evaluation_scores(training_feature_matrix, val_feature_matrix, train_labels, val_labels)"
      ]
    },
    {
      "cell_type": "markdown",
      "source": [
        "###Hyperparameter Tuning:\n",
        "Defining parameter grids for preprocessing and feature extraction.\n",
        "Iterating over parameter combinations to find the optimal set of parameters that minimizes the mean rank."
      ],
      "metadata": {
        "id": "nDZfKDfWGPvy"
      }
    },
    {
      "cell_type": "code",
      "execution_count": 20,
      "metadata": {
        "id": "MbleYw4-3jeE"
      },
      "outputs": [],
      "source": [
        "# Creating new preprocess function that will run on all permutation combination of parameters\n",
        "\n",
        "from nltk.tokenize import word_tokenize\n",
        "from nltk.corpus import stopwords\n",
        "from nltk.stem import PorterStemmer\n",
        "from nltk.stem import WordNetLemmatizer\n",
        "\n",
        "def pre_process(text, remove_punctuation=True, stemming=True, remove_numbers=True, remove_special_characters=True):\n",
        "\n",
        "    # Lowercasing\n",
        "    text = text.lower()\n",
        "\n",
        "    # Tokenization using NLTK's word_tokenize\n",
        "    tokens = word_tokenize(text)\n",
        "\n",
        "    # Removing Stop Words\n",
        "    stop_words = set(stopwords.words('english'))\n",
        "    tokens = [token for token in tokens if token not in stop_words]\n",
        "\n",
        "    # Removing Punctuation\n",
        "    if remove_punctuation:\n",
        "        tokens = [token for token in tokens if token not in string.punctuation]\n",
        "\n",
        "    # Stemming using Porter Stemmer\n",
        "    if stemming:\n",
        "        stemmer = PorterStemmer()\n",
        "        tokens = [stemmer.stem(token) for token in tokens]\n",
        "\n",
        "    # Removing Numbers\n",
        "    if remove_numbers:\n",
        "        tokens = [token for token in tokens if not token.isdigit()]\n",
        "\n",
        "    # Removing Special Characters\n",
        "    if remove_special_characters:\n",
        "        tokens = [re.sub(r'[^a-zA-Z0-9]', '', token) for token in tokens]\n",
        "\n",
        "    return tokens"
      ]
    },
    {
      "cell_type": "code",
      "execution_count": 25,
      "metadata": {
        "id": "SaH1gob_TnO_"
      },
      "outputs": [],
      "source": [
        "# Creating new to_feature_vector_dictionary function that will run on all permutation combination of parameters\n",
        "\n",
        "def to_feature_vector_dictionary(character_doc, extra_features,sentiment_score, Ngram, n):\n",
        "\n",
        "    counts = Counter(character_doc)  # for now, a simple count\n",
        "    counts = dict(counts)\n",
        "\n",
        "    if sentiment_score:\n",
        "      # Sentiment score using VADER\n",
        "      sentiment_scores = sentiment_analyzer.polarity_scores(' '.join(character_doc))\n",
        "\n",
        "      # Add the sentiment score to the feature vector dict\n",
        "      counts['sentiment_score'] = sentiment_scores['compound']\n",
        "\n",
        "    if Ngram:\n",
        "      # N-gram counts\n",
        "      n_grams = list(ngrams(character_doc, n)) #4\n",
        "      n_gram_counts = Counter(n_grams)\n",
        "      n_gram_counts = {f'ngram_{n_gram}': count for n_gram, count in n_gram_counts.items()}\n",
        "      counts.update(n_gram_counts)\n",
        "\n",
        "    # Add the extra features, for now just adding one count for each extra feature\n",
        "    for feature in extra_features:\n",
        "        counts[feature] += 1\n",
        "\n",
        "    return counts"
      ]
    },
    {
      "cell_type": "code",
      "execution_count": 26,
      "metadata": {
        "id": "H9JmWn3NfYS8"
      },
      "outputs": [],
      "source": [
        "# Modifying the function for multiple runs on combination of parameters\n",
        "\n",
        "def create_document_matrix_from_corpus(corpus, fitting=False, sentiment_score=True, Ngram=True, n=4):\n",
        "\n",
        "    if fitting:\n",
        "        corpusVectorizer.fit([to_feature_vector_dictionary(doc, [], sentiment_score, Ngram, n) for _, doc in corpus])\n",
        "    doc_feature_matrix = corpusVectorizer.transform([to_feature_vector_dictionary(doc, [],sentiment_score, Ngram, n) for _, doc in corpus])\n",
        "\n",
        "    # Use TF-IDF transformation\n",
        "    tfidf_transformer.fit(doc_feature_matrix)\n",
        "    doc_feature_matrix_tfidf = tfidf_transformer.transform(doc_feature_matrix)\n",
        "\n",
        "    return doc_feature_matrix_tfidf"
      ]
    },
    {
      "cell_type": "code",
      "execution_count": 27,
      "metadata": {
        "id": "kCYV6HLoC33i"
      },
      "outputs": [],
      "source": [
        "def get_similarity_matrix(similarity_df):\n",
        "    \"\"\"\n",
        "    Given a DataFrame with columns 'doc1', 'doc2', and 'similarity',\n",
        "    returns a similarity matrix as a DataFrame.\n",
        "\n",
        "    Parameters:\n",
        "    > similarity_df: DataFrame with columns 'doc1', 'doc2', and 'similarity'\n",
        "\n",
        "    Returns:\n",
        "    > similarity_matrix: DataFrame representing the similarity matrix\n",
        "    \"\"\"\n",
        "    # Create a pivot table to reshape the DataFrame into a matrix\n",
        "    similarity_matrix = similarity_df.pivot(index='doc1', columns='doc2', values='similarity')\n",
        "\n",
        "    # Fill NaN values with 0 (for cases where doc1 and doc2 are the same)\n",
        "    similarity_matrix = similarity_matrix.fillna(0)\n",
        "\n",
        "    return similarity_matrix"
      ]
    },
    {
      "cell_type": "code",
      "execution_count": 29,
      "metadata": {
        "colab": {
          "base_uri": "https://localhost:8080/"
        },
        "id": "regtAaklTMRj",
        "outputId": "32abdca0-a11e-4f71-9c2e-ee3b9e0f5b5a"
      },
      "outputs": [
        {
          "output_type": "stream",
          "name": "stdout",
          "text": [
            "2.3\n",
            "2.2\n",
            "2.1\n",
            "{'remove_numbers': True, 'remove_punctuation': True, 'remove_special_characters': True, 'stemming': True} \n",
            " {'Ngram': False, 'n': 3, 'sentiment_score': True}\n",
            "2.1\n"
          ]
        }
      ],
      "source": [
        "from sklearn.model_selection import ParameterGrid\n",
        "import os\n",
        "import sys\n",
        "\n",
        "# Defining the parameter grid\n",
        "param_grid_preprocess = {\n",
        "    'remove_punctuation': [True, False],\n",
        "    'stemming': [True, False],\n",
        "    'remove_numbers': [True, False],\n",
        "    'remove_special_characters': [True, False]\n",
        "}\n",
        "param_grid_feature = {\n",
        "    'Ngram': [True, False],\n",
        "    'n': [3,4,5],\n",
        "    'sentiment_score': [True, False]\n",
        "}\n",
        "\n",
        "# Generating all possible combinations of parameters\n",
        "param_combinations = list(ParameterGrid(param_grid_preprocess))\n",
        "param_feature_combinations = list(ParameterGrid(param_grid_feature))\n",
        "\n",
        "rank = 5\n",
        "global best_params_preprocess # Global parameter variables to store best parameters after grid search\n",
        "global best_params_feature\n",
        "\n",
        "# Iterating over parameter combinations\n",
        "for params in param_combinations:\n",
        "  for param_feature in param_feature_combinations:\n",
        "\n",
        "    # Only use the first 300 lines of each character\n",
        "    train_character_docs = create_character_document_from_dataframe(train_data, max_line_count=300)\n",
        "    total_words = 0\n",
        "    for name in train_character_docs.keys():\n",
        "      total_words += len(train_character_docs[name].split())\n",
        "\n",
        "   # Create list of pairs of (character name, pre-processed character)\n",
        "    training_corpus = [(name, pre_process(doc, **params)) for name, doc in sorted(train_character_docs.items())]\n",
        "    train_labels = [name for name, doc in training_corpus]\n",
        "    # Apply pre-processing with the current parameter combination\n",
        "    training_feature_matrix = create_document_matrix_from_corpus(training_corpus, fitting=True, **param_feature)\n",
        "\n",
        "\n",
        "    # get the validation data- only 30 lines used for each character\n",
        "    val_character_docs = create_character_document_from_dataframe(val_data, max_line_count=30)\n",
        "\n",
        "    total_words = 0\n",
        "    for name in val_character_docs.keys():\n",
        "        total_words += len(val_character_docs[name].split())\n",
        "\n",
        "    # create list of pairs of (character name, pre-processed character)\n",
        "    val_corpus = [(name, pre_process(doc, **params)) for name, doc in sorted(val_character_docs.items())]\n",
        "    val_labels = [name for name, doc in val_corpus]\n",
        "\n",
        "    # Just transform the val_feature_matrix, don't fit\n",
        "    val_feature_matrix = create_document_matrix_from_corpus(val_corpus, fitting=False, **param_feature)\n",
        "\n",
        "    # To ignore the output from compute_IR_evaluation_scores()\n",
        "    original_stdout = sys.stdout\n",
        "    sys.stdout = open(os.devnull, 'w')\n",
        "\n",
        "    result = compute_IR_evaluation_scores(training_feature_matrix, val_feature_matrix, train_labels, val_labels)\n",
        "    # Print or store the results for each parameter combination\n",
        "    sys.stdout = original_stdout\n",
        "    mean_rank, _, _, _ = result\n",
        "\n",
        "\n",
        "    if(rank > mean_rank):\n",
        "      best_params_preprocess = params\n",
        "      best_params_feature = param_feature\n",
        "      rank = mean_rank\n",
        "      print(rank)\n",
        "\n",
        "print(best_params_preprocess, '\\n', best_params_feature)\n",
        "print(rank)"
      ]
    },
    {
      "cell_type": "markdown",
      "metadata": {
        "id": "m-sKVU4CPLPx"
      },
      "source": [
        "###Visualization:\n",
        "Plotting a heatmap to visualize the similarity matrix between documents as vectors.\n"
      ]
    },
    {
      "cell_type": "code",
      "execution_count": 30,
      "metadata": {
        "colab": {
          "base_uri": "https://localhost:8080/",
          "height": 1000
        },
        "id": "Sg4XhC4KFwPS",
        "outputId": "667b6dd8-c82c-447a-d25f-0efce25a6d88"
      },
      "outputs": [
        {
          "output_type": "display_data",
          "data": {
            "text/plain": [
              "<Figure size 2000x2000 with 2 Axes>"
            ],
            "image/png": "[encoded data removed]"
          },
          "metadata": {}
        }
      ],
      "source": [
        "plot_heat_map_similarity(df)"
      ]
    },
    {
      "cell_type": "markdown",
      "metadata": {
        "id": "60Lr3l1hXcRZ"
      },
      "source": [
        "## Testing"
      ]
    },
    {
      "cell_type": "code",
      "execution_count": 31,
      "metadata": {
        "colab": {
          "base_uri": "https://localhost:8080/"
        },
        "id": "uKAPU-PlFwPU",
        "outputId": "38003006-3abe-4435-f71f-af7dfc219682"
      },
      "outputs": [
        {
          "output_type": "stream",
          "name": "stdout",
          "text": [
            "Num. Characters:  10 \n",
            "\n",
            "Monica Geller Number of Words:  2937\n",
            "Joey Tribbiani Number of Words:  3119\n",
            "Chandler Bing Number of Words:  3963\n",
            "Phoebe Buffay Number of Words:  3437\n",
            "#ALL# Number of Words:  990\n",
            "Ross Geller Number of Words:  3477\n",
            "Rachel Green Number of Words:  3725\n",
            "Other_None Number of Words:  2904\n",
            "Other_Female Number of Words:  2733\n",
            "Other_Male Number of Words:  3232\n",
            "total words 30517\n",
            "-------------------------------\n",
            "Num. Characters:  10 \n",
            "\n",
            "Ross Geller Number of Words:  458\n",
            "Joey Tribbiani Number of Words:  336\n",
            "Chandler Bing Number of Words:  306\n",
            "Other_Female Number of Words:  225\n",
            "Other_None Number of Words:  256\n",
            "#ALL# Number of Words:  44\n",
            "Monica Geller Number of Words:  277\n",
            "Rachel Green Number of Words:  302\n",
            "Phoebe Buffay Number of Words:  292\n",
            "Other_Male Number of Words:  347\n",
            "total words 2843\n",
            "-------------------------------\n",
            "mean rank 2.1\n",
            "mean cosine similarity 0.7947194663306891\n",
            "7 correct out of 10 / accuracy: 0.7\n"
          ]
        }
      ],
      "source": [
        "# redo on training data with the first 300 character lines used\n",
        "train_character_docs = create_character_document_from_dataframe(train_data, max_line_count=300)\n",
        "print('Num. Characters: ',len(train_character_docs.keys()),\"\\n\")\n",
        "total_words = 0\n",
        "for name in train_character_docs.keys():\n",
        "    print(name, 'Number of Words: ',len(train_character_docs[name].split()))\n",
        "    total_words += len(train_character_docs[name].split())\n",
        "print(\"total words\", total_words)\n",
        "print('-------------------------------')\n",
        "\n",
        "training_corpus = [(name, pre_process(doc, **best_params_preprocess)) for name, doc in sorted(train_character_docs.items())]\n",
        "train_labels = [name for name, doc in training_corpus]\n",
        "\n",
        "training_feature_matrix = create_document_matrix_from_corpus(training_corpus, fitting=True, **best_params_feature)\n",
        "\n",
        "# get the test data using 40 lines per character\n",
        "test_character_docs = create_character_document_from_dataframe(test_data, max_line_count=30)\n",
        "print('Num. Characters: ',len(test_character_docs.keys()),\"\\n\")\n",
        "total_words = 0\n",
        "for name in test_character_docs.keys():\n",
        "    print(name, 'Number of Words: ',len(test_character_docs[name].split()))\n",
        "    total_words += len(test_character_docs[name].split())\n",
        "print(\"total words\", total_words)\n",
        "print('-------------------------------')\n",
        "\n",
        "# create list of pairs of (character name, pre-processed character)\n",
        "test_corpus = [(name, pre_process(doc, **best_params_preprocess)) for name, doc in sorted(test_character_docs.items())]\n",
        "test_labels = [name for name, doc in test_corpus]\n",
        "\n",
        "\n",
        "# Just transform the val_feature_matrix, don't fit\n",
        "test_feature_matrix = create_document_matrix_from_corpus(test_corpus, fitting=False, **best_params_feature)\n",
        "mean_rank, mean_cosine_simliarity, acc, df = compute_IR_evaluation_scores(training_feature_matrix, test_feature_matrix, train_labels, test_labels)"
      ]
    },
    {
      "cell_type": "markdown",
      "source": [
        "##Results:\n",
        "The project provides a comprehensive analysis of the preprocessing and feature extraction parameters' impact on the mean rank in an IR evaluation.\n",
        "It identifies the optimal set of parameters for maximizing the distinction between character vectors.\n",
        "\n",
        "> The final model achieved a **mean rank of 2.1** and an **accuracy of 70%** in distinguishing characters."
      ],
      "metadata": {
        "id": "VbH3CoA3IF-8"
      }
    },
    {
      "cell_type": "markdown",
      "source": [
        "##Recommendations:\n",
        "The findings suggest that the optimized vector representation and the identified parameters can significantly improve character-based analyses in script data. Future research could explore advanced NLP techniques and deep learning models to further refine character distinction and uncover more complex linguistic patterns in TV show scripts."
      ],
      "metadata": {
        "id": "WJs1f9hlIRWv"
      }
    },
    {
      "cell_type": "markdown",
      "source": [
        "##Conclusion:\n",
        "The project effectively optimized vector representations for character documents in the \"Friends\" script data. By fine-tuning preprocessing and feature extraction parameters, we significantly enhanced the distinction between character vectors. The analysis demonstrated the utility of sentiment analysis, n-gram counts, and TF-IDF transformation in creating distinguishable character profiles based on their dialogue. The visualizations, particularly the heatmap, provided insightful views into the relationships and similarities among characters."
      ],
      "metadata": {
        "id": "UEW4oKAyIUHZ"
      }
    },
    {
      "cell_type": "code",
      "source": [],
      "metadata": {
        "id": "_bh6WrUoIXoO"
      },
      "execution_count": null,
      "outputs": []
    }
  ],
  "metadata": {
    "colab": {
      "provenance": []
    },
    "kernelspec": {
      "display_name": "Python 3 (ipykernel)",
      "language": "python",
      "name": "python3"
    },
    "language_info": {
      "codemirror_mode": {
        "name": "ipython",
        "version": 3
      },
      "file_extension": ".py",
      "mimetype": "text/x-python",
      "name": "python",
      "nbconvert_exporter": "python",
      "pygments_lexer": "ipython3",
      "version": "3.10.13"
    }
  },
  "nbformat": 4,
  "nbformat_minor": 0
}